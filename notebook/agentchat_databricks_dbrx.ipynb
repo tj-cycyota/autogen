{
 "cells": [
  {
   "cell_type": "markdown",
   "metadata": {
    "application/vnd.databricks.v1+cell": {
     "cellMetadata": {
      "byteLimit": 2048000,
      "rowLimit": 10000
     },
     "inputWidgets": {},
     "nuid": "ceba3fa2-3fd7-4536-9338-212be94ddabd",
     "showTitle": false,
     "title": ""
    }
   },
   "source": [
    "# Use AutoGen in Databricks with DBRX\n",
    "\n",
    "![DBRX launch](https://www.databricks.com/en-blog-assets/static/2fe1a0af1ee0f6605024a810b604079c/dbrx-blog-header-optimized.png)\n",
    "\n",
    "In March 2024, Databricks released [DBRX](https://www.databricks.com/blog/introducing-dbrx-new-state-art-open-llm), a general-purpose LLM that sets a new standard for open LLMs. While available as an open-source model on Hugging Face ( [databricks/dbrx-instruct](https://huggingface.co/databricks/dbrx-instruct/tree/main) and [databricks/dbrx-base](https://huggingface.co/databricks/dbrx-base) ), customers of Databricks can also tap into the [Foundation Model APIs](https://docs.databricks.com/en/machine-learning/model-serving/score-foundation-models.html#query-a-chat-completion-model), which make DBRX available through an OpenAI-compatible, autoscaling REST API.\n",
    "\n",
    "[Autogen](https://microsoft.github.io/autogen/docs/Use-Cases/agent_chat) is becoming a popular standard for agent creation. Built to support any \"LLM as a service\" that implements the OpenAI SDK, it can easily be extended to integrate with powerful open source models. \n",
    "\n",
    "This notebook will demonstrate a few basic examples of Autogen with DBRX, including the use of  `AssistantAgent`, `UserProxyAgent`, and `ConversableAgent`.\n",
    "\n",
    "## Requirements\n",
    "AutoGen must be installed on your Databricks cluster, and requires `Python>=3.8`. This example includes the `%pip` magic command to install: `%pip install pyautogen`, as well as other necessary libraries.\n",
    "\n",
    "This code has been tested on: \n",
    "* [Serverless Notebooks](https://docs.databricks.com/en/compute/serverless.html) (in public preview as of Apr 18, 2024)\n",
    "* Databricks Runtime 14.3 LTS ML [docs](https://docs.databricks.com/en/release-notes/runtime/14.3lts-ml.html)\n",
    "\n",
    "This code can run in any Databricks workspace in a region where DBRX is available via pay-per-token APIs (or provisioned throughput). To check if your region is supported, see [Foundation Model Region Availability](https://docs.databricks.com/en/machine-learning/model-serving/model-serving-limits.html#foundation-model-apis-limits)\n",
    "\n",
    "## Tips\n",
    "* This notebook can be imported to a Databricks workspace and run directly. Use [sparse checkout mode with git](https://www.databricks.com/blog/2023/01/26/work-large-monorepos-sparse-checkout-support-databricks-repos.html) to import only this notebook or the examples directory. \n",
    "\n",
    "* Databricks recommends using [Secrets](https://docs.databricks.com/en/security/secrets/secrets.html) instead of storing tokens in plain text. "
   ]
  },
  {
   "cell_type": "code",
   "execution_count": 0,
   "metadata": {
    "application/vnd.databricks.v1+cell": {
     "cellMetadata": {
      "byteLimit": 2048000,
      "rowLimit": 10000
     },
     "inputWidgets": {},
     "nuid": "76544fca-4366-4047-af7b-e5bca84f7bd4",
     "showTitle": false,
     "title": ""
    },
    "nteract": {
     "transient": {
      "deleting": false
     }
    }
   },
   "outputs": [],
   "source": [
    "%pip install pyautogen==0.2.25 openai==1.21.2 typing_extensions==4.11.0 --upgrade\n",
    "dbutils.library.restartPython()"
   ]
  },
  {
   "cell_type": "markdown",
   "metadata": {
    "application/vnd.databricks.v1+cell": {
     "cellMetadata": {
      "byteLimit": 2048000,
      "rowLimit": 10000
     },
     "inputWidgets": {},
     "nuid": "2c2081fb-0907-44bf-a474-3aa0e2b73921",
     "showTitle": false,
     "title": ""
    }
   },
   "source": [
    "## Setup DBRX config list\n",
    "\n",
    "See Autogen docs for more inforation on the use of `config_list`: [LLM Configuration](https://microsoft.github.io/autogen/docs/topics/llm_configuration#why-is-it-a-list)"
   ]
  },
  {
   "cell_type": "code",
   "execution_count": 0,
   "metadata": {
    "application/vnd.databricks.v1+cell": {
     "cellMetadata": {
      "byteLimit": 2048000,
      "rowLimit": 10000
     },
     "inputWidgets": {},
     "nuid": "2f986960-218b-4d70-b68b-e4e2f4733fc4",
     "showTitle": false,
     "title": ""
    }
   },
   "outputs": [],
   "source": [
    "import os\n",
    "\n",
    "# Set environment variables with your current workspace host and a personal access token\n",
    "# To a secret you have already set up: dbutils.secrets.get('your_scope_name','databricks_host')\n",
    "\n",
    "# DATABRICKS_HOST format: \"https://{your workspace url}\" (no trailing slash)\n",
    "## AWS Workspace example: \"https://my-databricks-workspace.cloud.databricks.com\"\n",
    "## Azure Workspace example: \"https://adb-123456790123.12.azuredatabricks.net\"\n",
    "os.environ['DATABRICKS_HOST'] = \"<FILL IN WITH YOUR WORKSPACE URL IN SUPPORTED DBRX REGION>\"\n",
    "\n",
    "# DATABRICKS_TOKEN format: \"dapi...\"\n",
    "os.environ['DATABRICKS_TOKEN'] = dbutils.notebook.entry_point.getDbutils().notebook().getContext().apiToken().get()\n",
    "\n",
    "llm_config = {\n",
    "    \"config_list\": [\n",
    "      {\n",
    "        \"model\": \"databricks-dbrx-instruct\", \n",
    "        \"api_key\": str(os.environ[\"DATABRICKS_TOKEN\"]),\n",
    "        \"base_url\": str(os.getenv(\"DATABRICKS_HOST\"))+\"/serving-endpoints\"\n",
    "        }\n",
    "      ],\n",
    "}"
   ]
  },
  {
   "cell_type": "markdown",
   "metadata": {
    "application/vnd.databricks.v1+cell": {
     "cellMetadata": {
      "byteLimit": 2048000,
      "rowLimit": 10000
     },
     "inputWidgets": {},
     "nuid": "a3b6fbf6-ec3c-41e7-9296-8cfc45710086",
     "showTitle": false,
     "title": ""
    }
   },
   "source": [
    "## Hello World Example\n",
    "\n",
    "Our first example will be with a simple `UserProxyAgent` asking a question to an `AssistantAgent`. This is based on the tutorial demo [here](https://microsoft.github.io/autogen/docs/tutorial/introduction).\n",
    "\n",
    "After sending the question and seeing a response, you can type `exit` to end the chat or continue to converse."
   ]
  },
  {
   "cell_type": "code",
   "execution_count": 0,
   "metadata": {
    "application/vnd.databricks.v1+cell": {
     "cellMetadata": {
      "byteLimit": 2048000,
      "rowLimit": 10000
     },
     "inputWidgets": {},
     "nuid": "17ac3d8e-6fec-4e0a-8b78-d1179a8be316",
     "showTitle": false,
     "title": ""
    }
   },
   "outputs": [],
   "source": [
    "import autogen\n",
    "\n",
    "# Create Assistant and User \n",
    "assistant = autogen.AssistantAgent(\n",
    "  name=\"assistant\", \n",
    "  llm_config=llm_config\n",
    "  )\n",
    "\n",
    "user_proxy = autogen.UserProxyAgent(\n",
    "  name=\"user\", \n",
    "  code_execution_config=False\n",
    "  )\n",
    "\n",
    "# Initiate chat from user_proxy side\n",
    "user_proxy.initiate_chat(\n",
    "  assistant, \n",
    "  message=\"What is MLflow?\"\n",
    "  )"
   ]
  },
  {
   "cell_type": "markdown",
   "metadata": {
    "application/vnd.databricks.v1+cell": {
     "cellMetadata": {
      "byteLimit": 2048000,
      "rowLimit": 10000
     },
     "inputWidgets": {},
     "nuid": "28b907ff-adde-4c8e-a87a-2921a38d5537",
     "showTitle": false,
     "title": ""
    }
   },
   "source": [
    "## Simple Coding Agent\n",
    "\n",
    "In this example, we will implement a \"coding agent\" that can execute code. You will see how this code is run alongside your notebook in your current workspace, taking advantage of the performance benefits of Databricks clusters. This is based off the demo [here](https://microsoft.github.io/autogen/docs/topics/non-openai-models/cloud-mistralai/).\n",
    "\n",
    "First, set up a directory: "
   ]
  },
  {
   "cell_type": "code",
   "execution_count": 0,
   "metadata": {
    "application/vnd.databricks.v1+cell": {
     "cellMetadata": {
      "byteLimit": 2048000,
      "rowLimit": 10000
     },
     "inputWidgets": {},
     "nuid": "0aea7a78-1738-4bbf-ac8c-cc4ff4ca7d7d",
     "showTitle": false,
     "title": ""
    }
   },
   "outputs": [],
   "source": [
    "from pathlib import Path\n",
    "workdir = Path(\"coding\")\n",
    "print(workdir)\n",
    "workdir.mkdir(exist_ok=True)\n",
    "\n",
    "from autogen.coding import LocalCommandLineCodeExecutor\n",
    "code_executor = LocalCommandLineCodeExecutor(work_dir=workdir)"
   ]
  },
  {
   "cell_type": "markdown",
   "metadata": {
    "application/vnd.databricks.v1+cell": {
     "cellMetadata": {
      "byteLimit": 2048000,
      "rowLimit": 10000
     },
     "inputWidgets": {},
     "nuid": "a568813b-4d39-468b-88b9-6536c89c7671",
     "showTitle": false,
     "title": ""
    }
   },
   "source": [
    "Next, setup our agents and initiate a coding problem. Notice how the `UserProxyAgent` will take advantage of our `code_executor`; after the code is shown on screen, type Return/Enter in the chatbox to have it execute locally on your cluster via the bot's auto-reply. Note: with generative AI coding assistants, you should **always** manually read and review the code before executing it yourself:"
   ]
  },
  {
   "cell_type": "code",
   "execution_count": 0,
   "metadata": {
    "application/vnd.databricks.v1+cell": {
     "cellMetadata": {
      "byteLimit": 2048000,
      "rowLimit": 10000
     },
     "inputWidgets": {},
     "nuid": "31f09b3e-0088-4e21-97d0-ef9486c7115a",
     "showTitle": false,
     "title": ""
    }
   },
   "outputs": [],
   "source": [
    "from autogen import AssistantAgent, UserProxyAgent\n",
    "# Setting up the agents.\n",
    "user_proxy_agent = UserProxyAgent(\n",
    "    name=\"User\",\n",
    "    code_execution_config={\"executor\": code_executor},\n",
    "    is_termination_msg=lambda msg: \"TERMINATE\" in msg.get(\"content\"),\n",
    ")\n",
    "\n",
    "assistant_agent = AssistantAgent(\n",
    "    name=\"DBRX Assistant\",\n",
    "    llm_config=llm_config,\n",
    ")\n",
    "\n",
    "chat_result = user_proxy_agent.initiate_chat(\n",
    "    assistant_agent,\n",
    "    message=\"Count how many prime numbers from 1 to 10000.\",\n",
    ")"
   ]
  },
  {
   "cell_type": "markdown",
   "metadata": {
    "application/vnd.databricks.v1+cell": {
     "cellMetadata": {
      "byteLimit": 2048000,
      "rowLimit": 10000
     },
     "inputWidgets": {},
     "nuid": "2d4a740e-4d44-4972-a273-f9a966b9b22b",
     "showTitle": false,
     "title": ""
    }
   },
   "source": [
    "We can see the python file that was created in our working directory:"
   ]
  },
  {
   "cell_type": "code",
   "execution_count": 0,
   "metadata": {
    "application/vnd.databricks.v1+cell": {
     "cellMetadata": {
      "byteLimit": 2048000,
      "rowLimit": 10000
     },
     "inputWidgets": {},
     "nuid": "98b5948c-8e50-413e-8614-208a390ea42d",
     "showTitle": false,
     "title": ""
    }
   },
   "outputs": [],
   "source": [
    "%sh ls coding"
   ]
  },
  {
   "cell_type": "code",
   "execution_count": 0,
   "metadata": {
    "application/vnd.databricks.v1+cell": {
     "cellMetadata": {
      "byteLimit": 2048000,
      "rowLimit": 10000
     },
     "inputWidgets": {},
     "nuid": "2c9238fc-2925-46bb-9214-a01c4c6b61bb",
     "showTitle": false,
     "title": ""
    }
   },
   "outputs": [],
   "source": [
    "%sh head coding/count_primes.py"
   ]
  },
  {
   "cell_type": "markdown",
   "metadata": {
    "application/vnd.databricks.v1+cell": {
     "cellMetadata": {
      "byteLimit": 2048000,
      "rowLimit": 10000
     },
     "inputWidgets": {},
     "nuid": "35881872-076a-4a85-b51c-0cf5ec1e2d13",
     "showTitle": false,
     "title": ""
    }
   },
   "source": [
    "## Conversable Bots\n",
    "\n",
    "We can also implement the [two-agent chat pattern](https://microsoft.github.io/autogen/docs/tutorial/conversation-patterns/#two-agent-chat-and-chat-result) using DBRX to \"talk to itself\" in a teacher/student exchange:"
   ]
  },
  {
   "cell_type": "code",
   "execution_count": 0,
   "metadata": {
    "application/vnd.databricks.v1+cell": {
     "cellMetadata": {
      "byteLimit": 2048000,
      "rowLimit": 10000
     },
     "inputWidgets": {},
     "nuid": "44f698a3-ef97-4348-86c2-f3fa94130d9e",
     "showTitle": false,
     "title": ""
    }
   },
   "outputs": [],
   "source": [
    "from autogen import ConversableAgent\n",
    "\n",
    "# Setting up the agents.\n",
    "student_agent = ConversableAgent(\n",
    "    name=\"Student_Agent\",\n",
    "    system_message=\"You are a student willing to learn.\",\n",
    "    llm_config=llm_config,\n",
    ")\n",
    "\n",
    "teacher_agent = ConversableAgent(\n",
    "    name=\"Teacher_Agent\",\n",
    "    system_message=\"You are a computer science teacher.\",\n",
    "    llm_config=llm_config,\n",
    ")\n",
    "\n",
    "# Initiate chat\n",
    "chat_result = student_agent.initiate_chat(\n",
    "        teacher_agent,\n",
    "        message=\"How does deep learning relate to artificial intelligence?\",\n",
    "        summary_method=\"reflection_with_llm\",\n",
    "        max_turns=1, #Set to higher number to control back and forth\n",
    "    )"
   ]
  },
  {
   "cell_type": "markdown",
   "metadata": {
    "application/vnd.databricks.v1+cell": {
     "cellMetadata": {
      "byteLimit": 2048000,
      "rowLimit": 10000
     },
     "inputWidgets": {},
     "nuid": "3166adeb-f091-4cf2-bc09-f3708b77addd",
     "showTitle": false,
     "title": ""
    }
   },
   "source": [
    "## Implement Logging Display\n",
    "\n",
    "It can be useful to display chat logs to the notebook for debugging, and then persist those logs to a Delta table. The following section demonstrates how to extend the default AutoGen logging libraries.\n",
    "\n",
    "First, we will implement a Python `class` that extends the capabilities of `autogen.runtime_logging`:"
   ]
  },
  {
   "cell_type": "code",
   "execution_count": 0,
   "metadata": {
    "application/vnd.databricks.v1+cell": {
     "cellMetadata": {
      "byteLimit": 2048000,
      "rowLimit": 10000
     },
     "inputWidgets": {},
     "nuid": "7bb46ab5-92a4-4d11-a337-b0310c71d70d",
     "showTitle": false,
     "title": ""
    }
   },
   "outputs": [],
   "source": [
    "class Databricks_AutoGenLogger():\n",
    "  def __init__(self):\n",
    "    import autogen\n",
    "    self.logger_config = {\"dbname\": \"logs.db\"}\n",
    "\n",
    "  def start(self):\n",
    "    import autogen.runtime_logging\n",
    "    self.logging_session_id = autogen.runtime_logging.start(config=self.logger_config)\n",
    "    print(\"Logging session ID: \" + str(self.logging_session_id))\n",
    "\n",
    "  def stop(self):\n",
    "    import autogen.runtime_logging\n",
    "    autogen.runtime_logging.stop()\n",
    "\n",
    "  def _get_log(self, dbname=\"logs.db\", table=\"chat_completions\"):\n",
    "    import sqlite3\n",
    "    con = sqlite3.connect(dbname)\n",
    "    query = f\"SELECT * from {table} WHERE session_id == '{self.logging_session_id}' ORDER BY end_time DESC\"\n",
    "    cursor = con.execute(query)\n",
    "    rows = cursor.fetchall()\n",
    "    column_names = [description[0] for description in cursor.description]\n",
    "    data = [dict(zip(column_names, row)) for row in rows]\n",
    "    con.close()\n",
    "    return data\n",
    "\n",
    "  def display_session(self):\n",
    "    import pandas as pd\n",
    "    return pd.DataFrame(self._get_log())\n",
    "  \n",
    "  def persist_results(self, target_delta_table:str, mode=\"append\"):\n",
    "    import pandas as pd\n",
    "    # Convert to Spark DF\n",
    "    sdf = spark.createDataFrame(pd.DataFrame(self._get_log()))\n",
    "\n",
    "    try: \n",
    "      sdf.write.format(\"delta\").mode(mode).saveAsTable(target_delta_table)\n",
    "      print(f\"Logs sucessfully written to table {target_delta_table} in {mode} mode\")\n",
    "    except Exception as e:\n",
    "      print(f\"An error occurred: {e}\")\n"
   ]
  },
  {
   "cell_type": "markdown",
   "metadata": {
    "application/vnd.databricks.v1+cell": {
     "cellMetadata": {
      "byteLimit": 2048000,
      "rowLimit": 10000
     },
     "inputWidgets": {},
     "nuid": "7540e487-5247-4681-b419-a6fbe5d78880",
     "showTitle": false,
     "title": ""
    }
   },
   "source": [
    "Let's use the class above on our simplest example:"
   ]
  },
  {
   "cell_type": "code",
   "execution_count": 0,
   "metadata": {
    "application/vnd.databricks.v1+cell": {
     "cellMetadata": {
      "byteLimit": 2048000,
      "rowLimit": 10000
     },
     "inputWidgets": {},
     "nuid": "7ce59b7a-1f57-40b2-980b-8aacf559200f",
     "showTitle": false,
     "title": ""
    }
   },
   "outputs": [],
   "source": [
    "assistant = autogen.AssistantAgent(name=\"assistant\", llm_config=llm_config)\n",
    "user_proxy = autogen.UserProxyAgent(name=\"user\", code_execution_config=False)\n",
    "\n",
    "# Before initiating chat, start logging:\n",
    "logs = Databricks_AutoGenLogger()\n",
    "logs.start()\n",
    "try:\n",
    "  user_proxy.initiate_chat(assistant, message=\"What is MLflow?\", max_turns=1)\n",
    "except:\n",
    "  print(\"An Error occurred\")\n",
    "logs.stop()\n",
    "# Display logs\n",
    "display(logs.display_session())"
   ]
  },
  {
   "cell_type": "markdown",
   "metadata": {
    "application/vnd.databricks.v1+cell": {
     "cellMetadata": {
      "byteLimit": 2048000,
      "rowLimit": 10000
     },
     "inputWidgets": {},
     "nuid": "6442c07f-7d84-453c-864c-f591fe2137a8",
     "showTitle": false,
     "title": ""
    }
   },
   "source": [
    "With this, we have a simple framework to review and persist logs from our chats! Notice that in the `request` field above, we can also see the system prompt for the LLM - this can be useful for prompt engineering as well as debugging.\n",
    "\n",
    "Note that when you deploy this to Databricks Model Serving, model responses are auto-logged using [Lakehouse Monitoring](https://docs.databricks.com/en/lakehouse-monitoring/index.html); but the above approach provides a simple mechanism to log chats from the **client side**.\n",
    "\n",
    "Let's now persist these results to a Delta table in [Unity Catalog](https://docs.databricks.com/en/data-governance/unity-catalog/index.html):"
   ]
  },
  {
   "cell_type": "code",
   "execution_count": 0,
   "metadata": {
    "application/vnd.databricks.v1+cell": {
     "cellMetadata": {
      "byteLimit": 2048000,
      "rowLimit": 10000
     },
     "inputWidgets": {},
     "nuid": "ce2aaf23-116b-4716-8ced-664652c3945b",
     "showTitle": false,
     "title": ""
    }
   },
   "outputs": [],
   "source": [
    "# Use 3-layer namespace: catalog.schema.table. The table will be created if it does not exist.\n",
    "target_delta_table = \"your_catalog.your_schema.autogen_logs\"\n",
    "logs.persist_results(target_delta_table=target_delta_table, mode=\"append\")\n",
    "\n",
    "display(spark.table(target_delta_table))"
   ]
  },
  {
   "cell_type": "markdown",
   "metadata": {
    "application/vnd.databricks.v1+cell": {
     "cellMetadata": {
      "byteLimit": 2048000,
      "rowLimit": 10000
     },
     "inputWidgets": {},
     "nuid": "7e2b2561-2b4c-46b5-be65-d16e23c79198",
     "showTitle": false,
     "title": ""
    }
   },
   "source": [
    "## Closing Thoughts\n",
    "This notebook provides a few basic examples of using Autogen with DBRX, and we're excited to see how you can use this framework alongside leading open-source LLMs!\n",
    "\n",
    "### Limitations\n",
    "* Databricks Foundation Model API supports other open-source LLMs (Mixtral, Llama2, etc.), but the above code has not been tested on those.\n",
    "\n",
    "* As of April 2024, DBRX does not yet support tool/function calling abilities. To discuss this capability further, please reach out to your Databricks representative."
   ]
  }
 ],
 "metadata": {
  "application/vnd.databricks.v1+notebook": {
   "dashboards": [],
   "language": "python",
   "notebookMetadata": {
    "mostRecentlyExecutedCommandWithImplicitDF": {
     "commandId": 2824690123452459,
     "dataframes": [
      "_sqldf"
     ]
    },
    "pythonIndentUnit": 2
   },
   "notebookName": "agentchat_databricks_dbrx",
   "widgets": {}
  },
  "kernel_info": {
   "name": "synapse_pyspark"
  },
  "kernelspec": {
   "display_name": "Synapse PySpark",
   "language": "Python",
   "name": "synapse_pyspark"
  },
  "language_info": {
   "name": "python"
  },
  "notebook_environment": {},
  "nteract": {
   "version": "nteract-front-end@1.0.0"
  },
  "save_output": true,
  "spark_compute": {
   "compute_id": "/trident/default",
   "session_options": {
    "conf": {},
    "enableDebugMode": false
   }
  }
 },
 "nbformat": 4,
 "nbformat_minor": 0
}
